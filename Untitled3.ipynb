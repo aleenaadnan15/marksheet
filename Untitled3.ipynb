{
 "cells": [
  {
   "cell_type": "code",
   "execution_count": 102,
   "metadata": {},
   "outputs": [],
   "source": [
    "import pandas as pd"
   ]
  },
  {
   "cell_type": "code",
   "execution_count": 132,
   "metadata": {},
   "outputs": [
    {
     "data": {
      "text/html": [
       "<div>\n",
       "<style scoped>\n",
       "    .dataframe tbody tr th:only-of-type {\n",
       "        vertical-align: middle;\n",
       "    }\n",
       "\n",
       "    .dataframe tbody tr th {\n",
       "        vertical-align: top;\n",
       "    }\n",
       "\n",
       "    .dataframe thead th {\n",
       "        text-align: right;\n",
       "    }\n",
       "</style>\n",
       "<table border=\"1\" class=\"dataframe\">\n",
       "  <thead>\n",
       "    <tr style=\"text-align: right;\">\n",
       "      <th></th>\n",
       "      <th>Question No</th>\n",
       "      <th>Marks</th>\n",
       "      <th>Passing</th>\n",
       "      <th>Grade</th>\n",
       "      <th>Status</th>\n",
       "      <th>Percentage</th>\n",
       "    </tr>\n",
       "  </thead>\n",
       "  <tbody>\n",
       "    <tr>\n",
       "      <th>1</th>\n",
       "      <td>1.1</td>\n",
       "      <td>6</td>\n",
       "      <td>Fair</td>\n",
       "      <td>A</td>\n",
       "      <td>Pass</td>\n",
       "      <td>total</td>\n",
       "    </tr>\n",
       "    <tr>\n",
       "      <th>2</th>\n",
       "      <td>11.2</td>\n",
       "      <td>5</td>\n",
       "      <td>Star</td>\n",
       "      <td>B</td>\n",
       "      <td>Pass</td>\n",
       "      <td>marks</td>\n",
       "    </tr>\n",
       "    <tr>\n",
       "      <th>3</th>\n",
       "      <td>21.3</td>\n",
       "      <td>9</td>\n",
       "      <td>Excellent</td>\n",
       "      <td>A+</td>\n",
       "      <td>Pass</td>\n",
       "      <td>37</td>\n",
       "    </tr>\n",
       "    <tr>\n",
       "      <th>4</th>\n",
       "      <td>31.4</td>\n",
       "      <td>2</td>\n",
       "      <td>Poor</td>\n",
       "      <td>F</td>\n",
       "      <td>Fail</td>\n",
       "      <td>and</td>\n",
       "    </tr>\n",
       "    <tr>\n",
       "      <th>5</th>\n",
       "      <td>41.5</td>\n",
       "      <td>5</td>\n",
       "      <td>Star</td>\n",
       "      <td>B</td>\n",
       "      <td>Pass</td>\n",
       "      <td>percentage</td>\n",
       "    </tr>\n",
       "    <tr>\n",
       "      <th>6</th>\n",
       "      <td>51.6</td>\n",
       "      <td>4</td>\n",
       "      <td>Poor</td>\n",
       "      <td>E</td>\n",
       "      <td>Pass</td>\n",
       "      <td>is</td>\n",
       "    </tr>\n",
       "    <tr>\n",
       "      <th>7</th>\n",
       "      <td>61.7</td>\n",
       "      <td>6</td>\n",
       "      <td>Fair</td>\n",
       "      <td>A</td>\n",
       "      <td>Pass</td>\n",
       "      <td>58.2</td>\n",
       "    </tr>\n",
       "  </tbody>\n",
       "</table>\n",
       "</div>"
      ],
      "text/plain": [
       "   Question No  Marks    Passing Grade Status  Percentage\n",
       "1          1.1      6       Fair     A   Pass       total\n",
       "2         11.2      5       Star     B   Pass       marks\n",
       "3         21.3      9  Excellent    A+   Pass          37\n",
       "4         31.4      2       Poor     F   Fail         and\n",
       "5         41.5      5       Star     B   Pass  percentage\n",
       "6         51.6      4       Poor     E   Pass          is\n",
       "7         61.7      6       Fair     A   Pass        58.2"
      ]
     },
     "execution_count": 132,
     "metadata": {},
     "output_type": "execute_result"
    }
   ],
   "source": [
    "dic = {'Question No': [1.10, 11.20, 21.30, 31.40, 41.50, 51.60, 61.70],\n",
    "      'Marks': [6, 5, 9, 2, 5, 4, 6],\n",
    "      'Passing': ['Fair', 'Star', 'Excellent', 'Poor', 'Star', 'Poor', 'Fair'],\n",
    "      'Grade': ['A','B','A+','F','B','E','A'],\n",
    "      'Status': ['Pass', 'Pass','Pass','Fail','Pass','Pass','Pass']}\n",
    "df = pd.DataFrame(dic, index=[1, 2, 3, 4, 5, 6, 7])\n",
    "df"
   ]
  },
  {
   "cell_type": "markdown",
   "metadata": {},
   "source": [
    "# \"Name\" = \"Nabeel Yasir Ahmer Khan\"\n",
    "\"Exam\" = \"Interview\"\n",
    "\"Total Marks\" = 70\n",
    "\"Passing Marks\"= 37\n",
    "\"Percentage\" = 58.2\n",
    "\"Division\" = \"Second\"\n",
    "\"Checked by\" = \"Aleena\"\n",
    "\"Date\" = 5-Nov-2019"
   ]
  },
  {
   "cell_type": "code",
   "execution_count": null,
   "metadata": {},
   "outputs": [],
   "source": []
  }
 ],
 "metadata": {
  "kernelspec": {
   "display_name": "Python 3",
   "language": "python",
   "name": "python3"
  },
  "language_info": {
   "codemirror_mode": {
    "name": "ipython",
    "version": 3
   },
   "file_extension": ".py",
   "mimetype": "text/x-python",
   "name": "python",
   "nbconvert_exporter": "python",
   "pygments_lexer": "ipython3",
   "version": "3.7.3"
  }
 },
 "nbformat": 4,
 "nbformat_minor": 2
}
